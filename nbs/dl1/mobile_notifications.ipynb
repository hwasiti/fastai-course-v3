{
 "cells": [
  {
   "cell_type": "markdown",
   "metadata": {},
   "source": [
    "https://forums.fast.ai/t/training-metrics-as-notifications-on-mobile-using-callbacks/17330/4?u=hwasiti\n",
    "\n",
    "Derived from Matt Potma's basic telegram bot usage script.\n",
    "\n",
    "Utilizes this API Library:\n",
    "   https://github.com/python-telegram-bot/python-telegram-bot\n",
    "To install:\n",
    "   pip install python-telegram-bot --upgrade\n",
    "\n",
    "To generate an Access Token, you have to talk to BotFather: https://t.me/botfather\n",
    "and follow a few simple steps (described here: https://core.telegram.org/bots#6-botfather ).\n",
    "\n",
    "For a simple example: https://github.com/python-telegram-bot/python-telegram-bot/wiki/Introduction-to-the-API\n",
    "\n",
    "'TOKEN' should be replaced by the API token you received from @BotFather:\n",
    "\n",
    "In ~/.telegram on the machine running the job, put\n",
    "\n",
    "{\"api_key\": \"442766545:<your API key>\",\n",
    " \"chat_id\": \"<your chat ID>\"}\n",
    "\n",
    "For me it was:\n",
    "    {\"api_key\": \"630257503:AAF9Q4mrnALdX6nBjR6ImgdG1uwDlnIGvtg\",\n",
    " \"chat_id\": \"-318454638\"}\n",
    "    \n",
    "    https://stackoverflow.com/a/50661601/1970830\n",
    "    \n",
    "Here's how you get an API key:\n",
    "   https://core.telegram.org/api/obtaining_api_id\n",
    "Here's how you get your chat ID: (See my Diigo highlights)\n",
    "   https://stackoverflow.com/a/50661601/1970830\n",
    "\n",
    "https://my.telegram.org/apps"
   ]
  },
  {
   "cell_type": "code",
   "execution_count": 1,
   "metadata": {},
   "outputs": [],
   "source": [
    "import telegram\n",
    "import json\n",
    "import os\n",
    "\n",
    "def notify_me(message=\"Job's done!\"):\n",
    "    filename = os.environ['HOME'] + '/.telegram'\n",
    "    with open(filename) as f:\n",
    "        json_blob = f.read()\n",
    "        credentials = json.loads(json_blob)\n",
    "\n",
    "    # Initialize bot\n",
    "    bot = telegram.Bot(token=credentials['api_key'])\n",
    "\n",
    "    # Send message\n",
    "    bot.send_message(chat_id=credentials['chat_id'], text=message)\n",
    "\n",
    "learn = create_cnn(data, models.resnet34, metrics=error_rate)\n",
    "notif_cb = NotificationCallback()\n",
    "learn.fit_one_cycle(4, callbacks=[notif_cb])"
   ]
  },
  {
   "cell_type": "markdown",
   "metadata": {},
   "source": [
    "Here is an example that can be used with fastai to send Telegram messages with every epoch results"
   ]
  },
  {
   "cell_type": "code",
   "execution_count": null,
   "metadata": {},
   "outputs": [],
   "source": [
    "@dataclass\n",
    "class NotificationCallback(Callback):\n",
    "        \n",
    "    def on_train_begin(self, metrics_names: StrList, **kwargs: Any) -> None:\n",
    "        notify_me(\"Epoch: train_loss , valid_loss , error_rate\")\n",
    "\n",
    "    def on_epoch_end(self,  epoch: int, smooth_loss: Tensor, last_metrics: MetricsList, **kwargs: Any) -> bool:\n",
    "        super().on_epoch_end(**kwargs)\n",
    "        val_loss, accuracy = last_metrics[0], last_metrics[1]\n",
    "        message = str(epoch) + \": \" + f\"{smooth_loss.item():.4f}\" + \" , \" + f\"{val_loss:.4f}\" + \" , \" + f\"{accuracy:.4f}\"\n",
    "        notify_me(message)\n",
    "        return False # Haider: if return true it will stop training at this point"
   ]
  }
 ],
 "metadata": {
  "kernelspec": {
   "display_name": "Python 3",
   "language": "python",
   "name": "python3"
  },
  "language_info": {
   "codemirror_mode": {
    "name": "ipython",
    "version": 3
   },
   "file_extension": ".py",
   "mimetype": "text/x-python",
   "name": "python",
   "nbconvert_exporter": "python",
   "pygments_lexer": "ipython3",
   "version": "3.7.2"
  }
 },
 "nbformat": 4,
 "nbformat_minor": 2
}
