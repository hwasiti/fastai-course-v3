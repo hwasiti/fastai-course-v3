{
 "cells": [
  {
   "cell_type": "code",
   "execution_count": 1,
   "metadata": {},
   "outputs": [],
   "source": [
    "from __future__ import print_function\n",
    "\n",
    "import numpy as np\n",
    "\n",
    "class AddCoordsNp():\n",
    "\t\"\"\"Add coords to a tensor\"\"\"\n",
    "\tdef __init__(self, x_dim=64, y_dim=64, with_r=False):\n",
    "\t\tself.x_dim = x_dim\n",
    "\t\tself.y_dim = y_dim\n",
    "\t\tself.with_r = with_r\n",
    "\n",
    "\tdef call(self, input_tensor):\n",
    "\t\t\"\"\"\n",
    "\t\tinput_tensor: (batch, x_dim, y_dim, c)\n",
    "\t\t\"\"\"\n",
    "\t\tbatch_size_tensor = np.shape(input_tensor)[0]\n",
    "\n",
    "\t\txx_ones = np.ones([1, self.x_dim], dtype=np.int32)\n",
    "\t\txx_ones = np.expand_dims(xx_ones, -1)\n",
    "\n",
    "\t\tprint(xx_ones.shape)\n",
    "\n",
    "\t\txx_range = np.expand_dims(np.arange(self.x_dim), 0)\n",
    "\t\txx_range = np.expand_dims(xx_range, 1)\n",
    "\n",
    "\t\tprint(xx_range.shape)\n",
    "\n",
    "\t\txx_channel = np.matmul(xx_ones, xx_range)\n",
    "\t\txx_channel = np.expand_dims(xx_channel, -1)\n",
    "\n",
    "\t\tyy_ones = np.ones([1, self.y_dim], dtype=np.int32)\n",
    "\t\tyy_ones = np.expand_dims(yy_ones, 1)\n",
    "\n",
    "\t\tprint(yy_ones.shape)\n",
    "\n",
    "\t\tyy_range = np.expand_dims(np.arange(self.y_dim), 0)\n",
    "\t\tyy_range = np.expand_dims(yy_range, -1)\n",
    "\n",
    "\t\tprint(yy_range.shape)\n",
    "\n",
    "\t\tyy_channel = np.matmul(yy_range, yy_ones)\n",
    "\t\tyy_channel = np.expand_dims(yy_channel, -1)\n",
    "\n",
    "\t\txx_channel = xx_channel.astype('float32') / (self.x_dim - 1)\n",
    "\t\tyy_channel = yy_channel.astype('float32') / (self.y_dim - 1)\n",
    "\n",
    "\t\txx_channel = xx_channel*2 - 1\n",
    "\t\tyy_channel = yy_channel*2 - 1\n",
    "\n",
    "\t\txx_channel = xx_channel.repeat(batch_size_tensor, axis=0)\n",
    "\t\tyy_channel = yy_channel.repeat(batch_size_tensor, axis=0)\n",
    "\n",
    "\t\tret = np.concatenate([input_tensor, xx_channel, yy_channel], axis=-1)\n",
    "\n",
    "\t\tif self.with_r:\n",
    "\t\t\trr = np.sqrt( np.square(xx_channel-0.5) + np.square(yy_channel-0.5))\n",
    "\t\t\tret = np.concatenate([ret, rr], axis=-1)\n",
    "\n",
    "\t\treturn ret"
   ]
  },
  {
   "cell_type": "code",
   "execution_count": 2,
   "metadata": {},
   "outputs": [],
   "source": [
    "import torch"
   ]
  },
  {
   "cell_type": "code",
   "execution_count": 3,
   "metadata": {},
   "outputs": [],
   "source": [
    "x = torch.ones(1,64,64,3)"
   ]
  },
  {
   "cell_type": "code",
   "execution_count": 7,
   "metadata": {},
   "outputs": [
    {
     "data": {
      "text/plain": [
       "torch.Tensor"
      ]
     },
     "execution_count": 7,
     "metadata": {},
     "output_type": "execute_result"
    }
   ],
   "source": [
    "type(x)"
   ]
  },
  {
   "cell_type": "code",
   "execution_count": 5,
   "metadata": {},
   "outputs": [
    {
     "data": {
      "text/plain": [
       "torch.Size([1, 64, 64, 3])"
      ]
     },
     "execution_count": 5,
     "metadata": {},
     "output_type": "execute_result"
    }
   ],
   "source": [
    "x.shape"
   ]
  },
  {
   "cell_type": "code",
   "execution_count": 17,
   "metadata": {},
   "outputs": [
    {
     "ename": "TypeError",
     "evalue": "'_Feature' object is not callable",
     "output_type": "error",
     "traceback": [
      "\u001b[0;31m---------------------------------------------------------------------------\u001b[0m",
      "\u001b[0;31mTypeError\u001b[0m                                 Traceback (most recent call last)",
      "\u001b[0;32m<ipython-input-17-b3420a48eb45>\u001b[0m in \u001b[0;36m<module>\u001b[0;34m\u001b[0m\n\u001b[0;32m----> 1\u001b[0;31m \u001b[0mprint_function\u001b[0m\u001b[0;34m(\u001b[0m\u001b[0mAddCoordsNp\u001b[0m\u001b[0;34m(\u001b[0m\u001b[0mx\u001b[0m\u001b[0;34m)\u001b[0m\u001b[0;34m)\u001b[0m\u001b[0;34m\u001b[0m\u001b[0;34m\u001b[0m\u001b[0m\n\u001b[0m",
      "\u001b[0;31mTypeError\u001b[0m: '_Feature' object is not callable"
     ]
    }
   ],
   "source": [
    "print_function(AddCoordsNp(x))"
   ]
  },
  {
   "cell_type": "code",
   "execution_count": 12,
   "metadata": {},
   "outputs": [
    {
     "data": {
      "text/plain": [
       "<__main__.AddCoordsNp at 0x7f857c1bddd8>"
      ]
     },
     "execution_count": 12,
     "metadata": {},
     "output_type": "execute_result"
    }
   ],
   "source": [
    "y"
   ]
  },
  {
   "cell_type": "code",
   "execution_count": null,
   "metadata": {},
   "outputs": [],
   "source": []
  }
 ],
 "metadata": {
  "kernelspec": {
   "display_name": "Python 3",
   "language": "python",
   "name": "python3"
  },
  "language_info": {
   "codemirror_mode": {
    "name": "ipython",
    "version": 3
   },
   "file_extension": ".py",
   "mimetype": "text/x-python",
   "name": "python",
   "nbconvert_exporter": "python",
   "pygments_lexer": "ipython3",
   "version": "3.7.2"
  }
 },
 "nbformat": 4,
 "nbformat_minor": 2
}
